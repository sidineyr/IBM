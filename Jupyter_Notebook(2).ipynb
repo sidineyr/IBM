{
 "cells": [
  {
   "cell_type": "markdown",
   "metadata": {},
   "source": [
    "<center>\n",
    "    <img src=\"https://cf-courses-data.s3.us.cloud-object-storage.appdomain.cloud/IBMDeveloperSkillsNetwork-DS0105EN-SkillsNetwork/labs/Module2/images/SN_web_lightmode.png\" width=\"300\" alt=\"cognitiveclass.ai logo\">\n",
    "</center>\n"
   ]
  },
  {
   "cell_type": "markdown",
   "metadata": {},
   "source": [
    "#### Add your code below following the instructions given in the course\n"
   ]
  },
  {
   "cell_type": "markdown",
   "metadata": {},
   "source": [
    "''Jupyter Notebook is a Tool for Data Science.''\n"
   ]
  },
  {
   "cell_type": "markdown",
   "metadata": {},
   "source": [
    "Jupyter Notebooks have become an indispensable tool in the realm of data science, offering a dynamic platform for interactive computing and data visualization. With its user-friendly interface, Jupyter Notebooks allow data scientists to seamlessly integrate code, visualizations, and explanatory text in a single document. This versatile tool supports various programming languages such as Python, R, and Julia, making it accessible to a wide range of data professionals. By enabling real-time collaboration and the ability to share insights with ease, Jupyter Notebooks streamline the data analysis process and enhance reproducibility in research. Embraced by both beginners and seasoned professionals, Jupyter Notebooks stand as a cornerstone in modern data science workflows."
   ]
  },
  {
   "cell_type": "markdown",
   "metadata": {},
   "source": [
    "# A list of languages used for data analysis:\"<br>\n",
    "    #Python<br>\n",
    "    #R<br>\n",
    "    #SQL<br>\n",
    "    #Java<br>\n",
    "    #Scala<br>\n",
    "    #Julia<br>\n",
    "    #MATLAB<br>\n",
    "    #SAS<br>\n",
    "    #JavaScript<br>\n",
    "    \n"
   ]
  },
  {
   "cell_type": "markdown",
   "metadata": {},
   "source": [
    "# A list of libraries used for Data Science.\n",
    "    \n",
    "    \n",
    "    - NumPy: For numerical computing and working with arrays.\n",
    "    - Pandas: For data manipulation and analysis.\n",
    "    - Matplotlib: For creating static, interactive, and animated visualizations in Python.\n",
    "    - Seaborn: For statistical data visualization based on Matplotlib.\n",
    "    - Scikit-learn: For machine learning algorithms and tools.\n",
    "    - TensorFlow: For deep learning and neural networks.\n",
    "    - Keras: A high-level neural networks API, running on top of TensorFlow.\n",
    "    - PyTorch: For deep learning and neural networks, with a focus on flexibility and speed.\n",
    "    - SciPy: For scientific and technical computing.\n",
    "    - Statsmodels: For estimating and interpreting statistical models.\n"
   ]
  },
  {
   "cell_type": "markdown",
   "metadata": {},
   "source": [
    "# A list of Data Science tools. <br>\n",
    "\n",
    "    Jupyter Notebook: An open-source web application that allows you to create and share documents that contain live code, equations, visualizations, and narrative text.<br>\n",
    "\n",
    "    RStudio: An integrated development environment (IDE) for R programming language, widely used for statistical computing and graphics.<br>\n",
    "\n",
    "    Tableau: A data visualization tool that is used for creating interactive and shareable dashboards.<br>\n",
    "\n",
    "    Apache Spark: An open-source distributed computing system that provides an interface for programming entire clusters with implicit data parallelism and fault tolerance.<br>\n",
    "\n",
    "    SAS: A software suite used for advanced analytics, multivariate analysis, business intelligence, data management, and predictive analytics.\n",
    "\n",
    "    Excel: While not specifically a data science tool, Excel is widely used for data manipulation, analysis, and visualization.\n",
    "\n",
    "    Hadoop: An open-source framework that allows for the distributed processing of large data sets across clusters of computers using simple programming models.\n",
    "\n",
    "    Databricks: A unified analytics platform that provides collaborative Apache Spark-based analytics, machine learning, and data engineering capabilities. "
   ]
  },
  {
   "cell_type": "markdown",
   "metadata": {},
   "source": [
    "# Examples of Arith\n",
    "\n",
    "    Addition:\n",
    "        2 + 3 = 5\n",
    "\n",
    "    Subtraction:\n",
    "        10 - 5 = 5\n",
    "\n",
    "    Multiplication:\n",
    "        4 * 6 = 24\n",
    "\n",
    "    Division:\n",
    "        15 / 3 = 5\n",
    "\n",
    "    Exponentiation:\n",
    "        2^3 = 8\n",
    "\n",
    "    Square Root:\n",
    "        √25 = 5\n"
   ]
  },
  {
   "cell_type": "code",
   "execution_count": 1,
   "metadata": {
    "tags": []
   },
   "outputs": [
    {
     "name": "stdout",
     "output_type": "stream",
     "text": [
      "8\n",
      "15\n"
     ]
    }
   ],
   "source": [
    "#An example of mat\n",
    "\n",
    "a=5\n",
    "b=3\n",
    "\n",
    "print(a+b)\n",
    "print(a*b)"
   ]
  },
  {
   "cell_type": "code",
   "execution_count": 2,
   "metadata": {
    "tags": []
   },
   "outputs": [
    {
     "name": "stdout",
     "output_type": "stream",
     "text": [
      "150 minutes is equal a 2.5 hours\n"
     ]
    }
   ],
   "source": [
    "# Define Minutes\n",
    "minutes = 150\n",
    "\n",
    "# Convert minutes in hours\n",
    "hours = minutes / 60\n",
    "\n",
    "# Result outPut\n",
    "print(f\"{minutes} minutes is equal a {hours} hours\")\n"
   ]
  },
  {
   "cell_type": "markdown",
   "metadata": {},
   "source": [
    "# Objectives to Learn Jupyter Notebook\n",
    "\n",
    "Here are some key objectives to focus on when learning Jupyter Notebook:\n",
    "\n",
    "1. Understanding the basics of Jupyter Notebook interface.\n",
    "2. Learning how to create and run code cells.\n",
    "3. Exploring Markdown cells for text formatting and documentation.\n",
    "4. Practicing data visualization using libraries like Matplotlib and Seaborn.\n",
    "5. Mastering the use of keyboard shortcuts for efficient workflow.\n",
    "6. Experimenting with different programming languages supported by Jupyter Notebook.\n",
    "7. Utilizing Jupyter extensions for additional functionalities.\n",
    "8. Collaborating with others using Jupyter Notebook.\n",
    "9. Integrating Jupyter Notebook with version control systems like Git.\n",
    "10. Exploring advanced features like widgets, interactive widgets, and interactive dashboards.\n",
    "\n",
    "By focusing on these objectives, you can enhance your skills and proficiency in using Jupyter Notebook for data analysis, coding, and documentation.\n"
   ]
  },
  {
   "cell_type": "markdown",
   "metadata": {},
   "source": [
    "Author: Sidiney Rodrigues"
   ]
  },
  {
   "cell_type": "raw",
   "metadata": {},
   "source": []
  }
 ],
 "metadata": {
  "kernelspec": {
   "display_name": "Python",
   "language": "python",
   "name": "conda-env-python-py"
  },
  "language_info": {
   "codemirror_mode": {
    "name": "ipython",
    "version": 3
   },
   "file_extension": ".py",
   "mimetype": "text/x-python",
   "name": "python",
   "nbconvert_exporter": "python",
   "pygments_lexer": "ipython3",
   "version": "3.7.12"
  }
 },
 "nbformat": 4,
 "nbformat_minor": 4
}
